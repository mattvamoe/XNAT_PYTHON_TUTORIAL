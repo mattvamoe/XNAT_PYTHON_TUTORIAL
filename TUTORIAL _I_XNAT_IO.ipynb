{
 "cells": [
  {
   "cell_type": "markdown",
   "id": "fc0f0256",
   "metadata": {},
   "source": [
    "# customized AI in research and diagnostics using xnat and python "
   ]
  },
  {
   "cell_type": "markdown",
   "id": "63a23b15",
   "metadata": {},
   "source": [
    "this tutorial teaches basic operations: \n",
    "\n",
    "e.g.\n",
    "   - up-/downloading data from xnat\n",
    "   - image-processing (image registration, segmentation, classification)\n",
    "   \n",
    "by the end of this tutorial you will know how to: \n",
    "   - load specific scans or project \n",
    "   - establish a segmentation pipeline \n",
    "   - include pretrained models and predict on real data \n",
    "    \n",
    "  \n",
    "a little python experience is desirable but not mandatory \n",
    "\n",
    "M. Moeskes, R. Lützkendorf, IBMI 2022"
   ]
  },
  {
   "cell_type": "markdown",
   "id": "45f42a3c",
   "metadata": {},
   "source": [
    "## 1. prerequisites: setting up the environment"
   ]
  },
  {
   "cell_type": "markdown",
   "id": "e2c8aa73",
   "metadata": {},
   "source": [
    "install necessary libraries to our working directory via terminal commands"
   ]
  },
  {
   "cell_type": "code",
   "execution_count": null,
   "id": "dc0909a6",
   "metadata": {},
   "outputs": [],
   "source": [
    "!pip install xnat\n",
    "!pip install pydicom \n",
    "!pip install SimpleITK as sitk "
   ]
  },
  {
   "cell_type": "markdown",
   "id": "4d0a6261",
   "metadata": {},
   "source": [
    "let's import the libraries"
   ]
  },
  {
   "cell_type": "code",
   "execution_count": 12,
   "id": "a706cf50",
   "metadata": {},
   "outputs": [],
   "source": [
    "import os \n",
    "import xnat\n",
    "import SimpleITK as sitk \n",
    "import matplotlib.pyplot as plt\n",
    "import numpy as np \n",
    "import zipfile # for vceatring zips \n",
    "from pydicom import dcmread # reda dcm image \n",
    "import pandas as pd #data processing"
   ]
  },
  {
   "cell_type": "markdown",
   "id": "487da88d",
   "metadata": {},
   "source": [
    "## 2. getting to work "
   ]
  },
  {
   "cell_type": "markdown",
   "id": "825667f1",
   "metadata": {},
   "source": [
    "## 2.1 connect to xnat and choose a project"
   ]
  },
  {
   "cell_type": "code",
   "execution_count": 43,
   "id": "f3cbd3d2",
   "metadata": {},
   "outputs": [
    {
     "name": "stdout",
     "output_type": "stream",
     "text": [
      "XNAT_TEST exists\n",
      "XNAT_TEST/GANZES_PROJEKT_TEST exists\n"
     ]
    }
   ],
   "source": [
    "# connect to xnat\n",
    "session = xnat.connect('http://149.203.111.199',user='admin',password='admin')\n",
    "\n",
    "# define target directory for download\n",
    "root = 'XNAT_TEST'\n",
    "project_dir = 'GANZES_PROJEKT_TEST'\n",
    "# f strings help avoiding .format() function call \n",
    "target_dir = f'{root}/{project_dir}'\n",
    "# check if dirs exist \n",
    "if os.path.exists(root):\n",
    "    print(root, 'exists')\n",
    "else:\n",
    "    os.mkdir(root)\n",
    "\n",
    "if os.path.exists(target_dir):\n",
    "    print(target_dir, 'exists')\n",
    "else:\n",
    "    os.mkdir(target_dir)\n",
    "# save all projects in a variable \n",
    "projects = session.projects\n",
    "# choose project \n",
    "project = session.projects['Chili_clean']\n",
    "\n",
    "download = True"
   ]
  },
  {
   "cell_type": "markdown",
   "id": "441f0efc",
   "metadata": {},
   "source": [
    "## 2.2 save preassumely commonly used blocks of code as functions"
   ]
  },
  {
   "cell_type": "code",
   "execution_count": 44,
   "id": "7cddb457",
   "metadata": {},
   "outputs": [],
   "source": [
    "# in order to work on different levels of the file-hierarchy, basic import functions are defined\n",
    "# theoretically custom data-filters could thus be implemented in future \n",
    "def get_projects(session):\n",
    "    # returns a list of all projects\n",
    "    return session.projects\n",
    "\n",
    "def get_subjects(project):\n",
    "    # returns a list of all subjects of a project\n",
    "    return [project.subjects[sub] for sub in project.subjects]\n",
    "           \n",
    "def get_experiments(project):\n",
    "    # returns list of all experiments of a project \n",
    "    exp = []\n",
    "    \n",
    "    for sub in project.subjects:\n",
    "        for i in range(len(project.subjects[sub].experiments)):\n",
    "            current_scan = project.subjects[sub].experiments[i]\n",
    "            exp.append(current_scan)\n",
    "    return exp\n",
    "\n",
    "def get_scans(project, exp):\n",
    "    # returns list of all scans of a project \n",
    "    scans = []\n",
    "    \n",
    "    for sub in project.subjects:\n",
    "        for i in range(len(project.subjects[sub].experiments)):\n",
    "            \n",
    "            if  str(exp[0]) ==  str(project.subjects[sub].experiments[i]):\n",
    "                for j in range(len(project.subjects[sub].experiments[i].scans)):\n",
    "                \n",
    "                    current_scan = project.subjects[sub].experiments[i].scans[j]\n",
    "                    scans.append(current_scan)\n",
    "\n",
    "    return scans\n",
    "\n",
    "# function for downloading a whole project \n",
    "def download_project(project):\n",
    "    \n",
    "    # query REST tree, save each scan acoording to its index in zip\n",
    "    # switching from string indexing to integers in 2nd loop because \n",
    "    # 1) xnats pyAPI does not use same python objects among different levels \n",
    "    # 2) file names may be inconsistent, saving them as numbers with leading zeros makes batch processing easy \n",
    "    for sub in project.subjects:\n",
    "        for i in range(len(project.subjects[sub].experiments)):\n",
    "            for j in range(len(project.subjects[sub].experiments[i].scans)):\n",
    "            \n",
    "                current_scan = project.subjects[sub].experiments[i].scans[j]\n",
    "                target_dir_zip = f'{target_dir}/{i:02d}+{j:02d}.zip'\n",
    "                \n",
    "                current_scan.download(target_dir_zip)\n",
    "                # extract zip\n",
    "                with zipfile.ZipFile(target_dir_zip, 'r') as zip_ref:\n",
    "                     zip_ref.extractall(f'{target_dir}/{i:02d}+{j:02d}')\n",
    "                os.remove(target_dir_zip)   \n",
    "#print(get_scans(project))\n",
    "\n",
    "def download_scan(project,scan, single, out_gui):\n",
    "    \n",
    "    single = 1 #if 1 neglect similar scans\n",
    "    sscan = str(scan)\n",
    "    sout_gui = str(out_gui)\n",
    "    \n",
    "    for sub in project.subjects:\n",
    "        for i in range(len(project.subjects[sub].experiments)):\n",
    "            for j in range(len(project.subjects[sub].experiments[i].scans)):\n",
    "            \n",
    "                current_scan = project.subjects[sub].experiments[i].scans[j]\n",
    "                scurrent_scan = str(current_scan)\n",
    "                # process strings\n",
    "                sscan = sscan.replace('[',' ').replace(']', ' ').strip()\n",
    "                sout_gui = sout_gui.replace('[',' ').replace(']',' ').replace(\"'\",' ').strip()\n",
    "                \n",
    "         \n",
    "                if not single and sscan == scurrent_scan: #applies if you want similar series e.g. all x rays \n",
    "                    \n",
    "                    target_dir_zip = f'{target_dir}/{i:02d}+{j:02d}.zip'\n",
    "                    current_scan.download(target_dir_zip)\n",
    "                    \n",
    "                    with zipfile.ZipFile(target_dir_zip, 'r') as zip_ref:\n",
    "                             zip_ref.extractall(f'{target_dir}/{i:02d}+{j:02d}')\n",
    "                   \n",
    "                \n",
    "                if sscan == scurrent_scan and sout_gui ==  str(project.subjects[sub].experiments[i]):\n",
    "                        target_dir_zip = f'{target_dir}/{i:02d}+{j:02d}.zip'\n",
    "                        current_scan.download(target_dir_zip)\n",
    "                    \n",
    "                        with zipfile.ZipFile(target_dir_zip, 'r') as zip_ref:\n",
    "                             zip_ref.extractall(f'{target_dir}/{i:02d}+{j:02d}')\n",
    "                        os.remove(target_dir_zip)\n",
    "                        \n",
    "                        return f'{target_dir}/{i:02d}+{j:02d}', project.subjects[sub]\n",
    "                        \n",
    " "
   ]
  },
  {
   "cell_type": "markdown",
   "id": "ac6d58da",
   "metadata": {},
   "source": [
    "### lets test a couple of functions\n"
   ]
  },
  {
   "cell_type": "code",
   "execution_count": 47,
   "id": "044e4cb6",
   "metadata": {},
   "outputs": [
    {
     "name": "stderr",
     "output_type": "stream",
     "text": [
      "785.2 KiB |#                                                      | 126.5 MiB/s\n",
      " 16.2 MiB |#                                                      | 386.1 MiB/s\n",
      " 95.4 KiB |#                                                      |  85.4 MiB/s\n",
      "  6.5 MiB |#                                                      | 165.1 MiB/s\n",
      " 30.7 MiB |      #                                                |  50.2 MiB/s\n",
      "  2.8 MiB |#                                                      | 148.3 MiB/s\n",
      "  3.6 MiB |#                                                      | 163.2 MiB/s\n",
      "  3.3 MiB |#                                                      | 165.8 MiB/s\n",
      "785.3 KiB |#                                                      | 212.3 MiB/s\n",
      "  1.5 MiB |#                                                      | 140.9 MiB/s\n",
      "  3.3 MiB |#                                                      | 152.7 MiB/s\n",
      "  3.3 MiB |#                                                      | 167.8 MiB/s\n",
      " 13.1 MiB |#                                                      | 167.6 MiB/s\n",
      "  7.6 MiB |#                                                      | 163.5 MiB/s\n",
      "656.1 KiB |#                                                      | 191.5 MiB/s\n",
      "515.0 KiB |#                                                      | 215.2 MiB/s\n",
      "142.9 MiB |        #                                              | 159.0 MiB/s\n",
      " 22.7 MiB | #                                                     | 163.8 MiB/s\n",
      " 87.6 MiB |     #                                                 | 164.1 MiB/s\n",
      " 79.1 MiB |    #                                                  | 174.7 MiB/s\n",
      "227.3 MiB |              #                                        | 161.1 MiB/s\n",
      " 37.7 MiB |  #                                                    | 154.3 MiB/s\n",
      " 37.7 MiB |  #                                                    | 159.2 MiB/s\n",
      "232.8 MiB |               #                                       | 152.8 MiB/s\n",
      " 40.7 MiB |  #                                                    | 154.8 MiB/s\n",
      "232.8 MiB |               #                                       | 149.7 MiB/s\n",
      "  1.0 MiB |#                                                      | 240.9 MiB/s\n",
      " 36.7 MiB |  #                                                    | 149.9 MiB/s\n",
      "226.8 MiB |               #                                       | 143.5 MiB/s\n",
      " 39.7 MiB |  #                                                    | 146.6 MiB/s\n",
      "226.8 MiB |               #                                       | 150.6 MiB/s\n",
      " 36.7 MiB |  #                                                    | 148.4 MiB/s\n",
      " 36.7 MiB |  #                                                    | 154.5 MiB/s\n",
      "226.8 MiB |                 #                                     | 128.3 MiB/s\n",
      " 40.7 MiB |   #                                                   | 130.0 MiB/s\n",
      "226.8 MiB |               #                                       | 142.6 MiB/s\n",
      " 12.9 MiB |#                                                      | 343.9 MiB/s\n",
      " 12.7 MiB |#                                                      | 270.4 MiB/s\n",
      " 35.5 MiB |  #                                                    | 125.6 MiB/s\n",
      " 43.3 MiB |   #                                                   | 134.5 MiB/s\n",
      " 43.3 MiB |   #                                                   | 125.9 MiB/s\n",
      " 98.4 KiB |#                                                      |  63.0 MiB/s\n",
      " 12.0 MiB | #                                                     | 114.5 MiB/s\n",
      " 12.0 MiB | #                                                     | 114.6 MiB/s\n",
      " 12.0 MiB | #                                                     | 114.9 MiB/s\n",
      " 12.0 MiB | #                                                     | 116.2 MiB/s\n",
      "  2.8 MiB |#                                                      | 140.2 MiB/s\n",
      "  2.8 MiB |#                                                      | 131.5 MiB/s\n",
      " 78.6 MiB |     #                                                 | 133.1 MiB/s\n",
      "  1.0 MiB |#                                                      | 125.2 MiB/s\n",
      "  2.1 MiB |#                                                      | 110.8 MiB/s\n",
      " 12.0 MiB | #                                                     | 117.6 MiB/s\n",
      " 12.0 MiB | #                                                     | 117.4 MiB/s\n",
      " 11.8 MiB |#                                                      | 133.1 MiB/s\n",
      " 11.8 MiB |#                                                      | 132.9 MiB/s\n",
      " 17.1 MiB | #                                                     | 132.6 MiB/s\n",
      " 17.1 MiB | #                                                     | 131.5 MiB/s\n",
      " 12.0 MiB | #                                                     | 114.9 MiB/s\n",
      " 12.0 MiB |#                                                      | 120.8 MiB/s\n",
      "  2.0 MiB |#                                                      | 140.4 MiB/s\n",
      "  1.5 MiB |#                                                      | 186.2 MiB/s\n",
      "  1.0 MiB |#                                                      | 229.9 MiB/s\n",
      "123.8 MiB |         #                                             | 126.1 MiB/s\n",
      "546.3 KiB |#                                                      | 150.9 MiB/s\n",
      "  2.1 MiB |#                                                      | 136.3 MiB/s\n",
      "  3.0 MiB |#                                                      | 162.8 MiB/s\n",
      "  2.1 MiB |#                                                      | 145.8 MiB/s\n",
      "  3.0 MiB |#                                                      | 153.4 MiB/s\n",
      " 35.6 MiB |  #                                                    | 124.4 MiB/s\n",
      " 40.3 MiB |  #                                                    | 146.7 MiB/s\n",
      " 13.1 MiB |#                                                      | 136.2 MiB/s\n",
      " 27.7 MiB | #                                                     | 142.4 MiB/s\n",
      " 40.3 MiB |  #                                                    | 144.9 MiB/s\n",
      "  5.0 MiB |#                                                      | 143.6 MiB/s\n",
      "656.1 KiB |#                                                      | 165.6 MiB/s\n",
      "515.1 KiB |#                                                      | 270.1 MiB/s\n",
      "546.3 KiB |#                                                      | 196.9 MiB/s\n",
      "515.1 KiB |#                                                      | 221.3 MiB/s\n",
      "546.3 KiB |#                                                      | 264.3 MiB/s\n",
      " 15.1 MiB |#                                                      | 294.6 MiB/s\n",
      " 26.1 MiB | #                                                     | 145.7 MiB/s\n",
      "515.0 KiB |#                                                      | 189.0 MiB/s\n",
      "  1.0 MiB |#                                                      | 206.6 MiB/s\n",
      " 22.7 MiB | #                                                     | 146.5 MiB/s\n",
      "108.2 MiB |       #                                               | 138.6 MiB/s\n",
      " 86.2 MiB |      #                                                | 138.2 MiB/s\n",
      "129.5 KiB |#                                                      |  42.2 MiB/s\n",
      "102.6 MiB |      #                                                | 167.7 MiB/s\n",
      " 86.2 MiB |     #                                                 | 154.2 MiB/s\n",
      "262.5 MiB |                  #                                    | 140.6 MiB/s\n",
      " 93.2 MiB |      #                                                | 152.7 MiB/s\n",
      "  9.3 MiB |#                                                      | 130.8 MiB/s\n",
      " 88.1 MiB |      #                                                | 130.5 MiB/s\n",
      " 58.9 MiB |       #                                               |  69.1 MiB/s\n",
      "  9.4 MiB |#                                                      | 170.2 MiB/s\n",
      " 62.6 MiB |    #                                                  | 144.8 MiB/s\n",
      " 26.0 MiB |  #                                                    | 107.4 MiB/s\n",
      " 84.5 MiB |       #                                               | 108.3 MiB/s\n",
      "164.1 MiB |              #                                        | 111.5 MiB/s\n",
      "174.3 MiB |              #                                        | 119.9 MiB/s\n",
      "515.0 KiB |#                                                      | 292.9 MiB/s\n",
      " 31.2 MiB |  #                                                    | 126.3 MiB/s\n"
     ]
    },
    {
     "name": "stderr",
     "output_type": "stream",
     "text": [
      " 31.2 MiB |  #                                                    | 133.8 MiB/s\n",
      "195.6 MiB |              #                                        | 130.8 MiB/s\n",
      " 37.7 MiB |  #                                                    | 143.0 MiB/s\n",
      "195.6 MiB |             #                                         | 144.4 MiB/s\n",
      " 86.2 MiB |      #                                                | 132.5 MiB/s\n",
      " 55.2 MiB |   #                                                   | 140.7 MiB/s\n",
      " 63.0 MiB |    #                                                  | 147.6 MiB/s\n",
      "100.4 MiB |       #                                               | 141.5 MiB/s\n",
      "515.3 KiB |#                                                      | 331.7 MiB/s\n",
      "  2.8 MiB |#                                                      | 138.3 MiB/s\n",
      "  3.2 MiB |#                                                      | 130.5 MiB/s\n",
      "  3.0 MiB |#                                                      | 158.2 MiB/s\n",
      "785.0 KiB |#                                                      | 176.3 MiB/s\n",
      "784.9 KiB |#                                                      | 165.8 MiB/s\n",
      "  1.5 MiB |#                                                      | 145.9 MiB/s\n",
      "  3.0 MiB |#                                                      | 150.4 MiB/s\n",
      "  2.9 MiB |#                                                      | 152.8 MiB/s\n",
      " 11.5 MiB |#                                                      | 148.0 MiB/s\n",
      "  7.6 MiB |#                                                      | 149.6 MiB/s\n",
      "656.1 KiB |#                                                      | 155.3 MiB/s\n",
      "142.9 MiB |          #                                            | 138.9 MiB/s\n",
      " 75.0 MiB |     #                                                 | 143.6 MiB/s\n",
      "515.0 KiB |#                                                      | 283.0 MiB/s\n",
      " 75.0 MiB |     #                                                 | 126.9 MiB/s\n",
      " 40.1 MiB |  #                                                    | 135.4 MiB/s\n",
      "546.4 KiB |#                                                      | 313.7 MiB/s\n",
      "107.3 MiB |        #                                              | 125.2 MiB/s\n",
      "546.4 KiB |#                                                      | 189.0 MiB/s\n",
      "231.2 MiB |                 #                                     | 129.7 MiB/s\n",
      "151.8 MiB |          #                                            | 141.0 MiB/s\n",
      "139.0 MiB |         #                                             | 149.3 MiB/s\n",
      "513.5 KiB |#                                                      | 282.4 MiB/s\n",
      " 91.1 MiB |       #                                               | 129.5 MiB/s\n",
      "  1.0 MiB |#                                                      | 256.2 MiB/s\n",
      "  1.3 MiB |#                                                      | 145.9 MiB/s\n",
      " 17.3 MiB | #                                                     | 169.9 MiB/s\n",
      " 15.0 MiB |#                                                      | 168.0 MiB/s\n",
      "103.9 KiB |#                                                      |  80.7 MiB/s\n",
      " 62.6 MiB |    #                                                  | 140.8 MiB/s\n",
      "  7.9 MiB |#                                                      | 132.0 MiB/s\n",
      " 12.4 MiB |#                                                      | 143.2 MiB/s\n",
      " 22.8 MiB | #                                                     | 133.6 MiB/s\n",
      "  6.0 MiB |#                                                      | 137.3 MiB/s\n",
      "  2.1 MiB |#                                                      | 145.1 MiB/s\n",
      "  5.2 MiB |#                                                      | 146.1 MiB/s\n",
      " 15.5 MiB | #                                                     | 131.4 MiB/s\n",
      " 19.3 MiB | #                                                     | 143.1 MiB/s\n",
      " 17.1 MiB | #                                                     | 126.7 MiB/s\n",
      " 68.3 MiB |     #                                                 | 133.4 MiB/s\n",
      "  6.0 MiB |#                                                      | 138.0 MiB/s\n",
      "  9.3 MiB |#                                                      | 142.1 MiB/s\n",
      "  3.9 MiB |#                                                      | 144.7 MiB/s\n",
      "  1.4 MiB |#                                                      | 150.3 MiB/s\n",
      "  9.1 MiB |#                                                      | 138.5 MiB/s\n",
      " 81.0 MiB |      #                                                | 131.1 MiB/s\n",
      "  9.1 MiB |#                                                      | 141.9 MiB/s\n",
      "  7.9 MiB |#                                                      | 146.8 MiB/s\n",
      "  3.0 MiB |#                                                      | 153.2 MiB/s\n",
      "  1.0 MiB |#                                                      | 343.4 MiB/s\n",
      "  4.0 MiB |#                                                      | 444.5 MiB/s\n",
      "  2.2 MiB |#                                                      | 360.1 MiB/s\n",
      "  8.4 MiB |#                                                      | 211.0 MiB/s\n",
      "  2.8 MiB |#                                                      | 363.1 MiB/s\n",
      " 30.0 MiB |#                                                      | 349.5 MiB/s\n",
      " 11.0 MiB |#                                                      | 384.0 MiB/s\n",
      " 46.0 MiB | #                                                     | 360.6 MiB/s\n",
      " 30.0 MiB |#                                                      | 349.1 MiB/s\n",
      " 44.0 MiB | #                                                     | 363.2 MiB/s\n",
      " 34.0 MiB |#                                                      | 366.1 MiB/s\n",
      "  2.0 MiB |#                                                      | 308.1 MiB/s\n",
      " 28.0 MiB |#                                                      | 340.5 MiB/s\n",
      " 32.0 MiB |#                                                      | 360.8 MiB/s\n",
      " 38.0 MiB | #                                                     | 304.7 MiB/s\n",
      " 36.0 MiB | #                                                     | 309.4 MiB/s\n",
      " 46.0 MiB | #                                                     | 388.2 MiB/s\n",
      "  1.0 MiB |#                                                      |  41.6 MiB/s\n",
      " 58.9 MiB |    #                                                  | 139.0 MiB/s\n",
      "546.4 KiB |#                                                      | 335.1 MiB/s\n",
      " 74.4 MiB |    #                                                  | 172.2 MiB/s\n",
      " 94.8 MiB |     #                                                 | 161.9 MiB/s\n",
      "219.7 KiB |#                                                      | 164.4 MiB/s\n",
      " 21.6 MiB | #                                                     | 128.2 MiB/s\n",
      "  5.3 MiB |#                                                      | 189.3 MiB/s\n",
      " 32.5 MiB | #                                                     | 152.5 MiB/s\n",
      "  1.0 MiB |#                                                      |  91.1 MiB/s\n",
      "151.8 MiB |          #                                            | 139.8 MiB/s\n",
      "100% of   1.5 KiB |################################|   1.8 MiB/s Time:  0:00:00\n",
      " 67.7 MiB |    #                                                  | 137.6 MiB/s\n",
      " 54.2 MiB |   #                                                   | 135.9 MiB/s\n",
      "161.7 MiB |           #                                           | 140.2 MiB/s\n",
      "161.7 MiB |           #                                           | 140.1 MiB/s\n",
      " 80.4 MiB |     #                                                 | 142.7 MiB/s\n",
      " 75.2 MiB |     #                                                 | 140.0 MiB/s\n",
      "  1.0 MiB |#                                                      | 235.1 MiB/s\n",
      " 83.0 MiB |     #                                                 | 160.6 MiB/s\n",
      "212.4 MiB |            #                                          | 167.5 MiB/s\n",
      "101.2 MiB |        #                                              | 115.2 MiB/s\n",
      "142.9 MiB |          #                                            | 130.9 MiB/s\n",
      "515.0 KiB |#                                                      | 226.9 MiB/s\n",
      "151.8 MiB |              #                                        | 104.7 MiB/s\n",
      "100% of   1.5 KiB |################################|   1.1 MiB/s Time:  0:00:00\n",
      " 67.7 MiB |     #                                                 | 129.2 MiB/s\n"
     ]
    },
    {
     "name": "stderr",
     "output_type": "stream",
     "text": [
      " 54.2 MiB |   #                                                   | 143.9 MiB/s\n",
      "513.5 KiB |#                                                      |  72.6 MiB/s\n",
      " 11.2 MiB |#                                                      | 163.2 MiB/s\n",
      " 75.5 MiB |     #                                                 | 128.9 MiB/s\n",
      " 33.7 MiB |  #                                                    | 128.8 MiB/s\n",
      " 36.2 MiB |  #                                                    | 129.4 MiB/s\n",
      " 16.6 MiB | #                                                     | 119.8 MiB/s\n",
      "  2.1 MiB |#                                                      | 147.9 MiB/s\n",
      "547.4 KiB |#                                                      | 265.0 MiB/s\n",
      "  1.6 MiB |#                                                      | 182.1 MiB/s\n",
      " 22.9 MiB | #                                                     | 163.5 MiB/s\n",
      "192.4 KiB |#                                                      | 138.8 MiB/s\n",
      "229.2 MiB |               #                                       | 150.7 MiB/s\n",
      " 72.9 MiB |    #                                                  | 168.6 MiB/s\n",
      "219.1 MiB |                #                                      | 134.6 MiB/s\n",
      "415.2 MiB |                                  #                    | 120.8 MiB/s\n",
      "415.2 MiB |                                     #                 | 100.0 MiB/s\n",
      " 35.2 MiB |  #                                                    | 131.2 MiB/s\n",
      " 66.8 MiB |     #                                                 | 114.8 MiB/s\n",
      "  1.5 MiB |#                                                      |  89.5 MiB/s\n",
      " 66.8 MiB |     #                                                 | 129.1 MiB/s\n",
      "514.7 KiB |#                                                      | 298.5 MiB/s\n",
      "  1.0 MiB |#                                                      | 259.9 MiB/s\n",
      "161.8 MiB |            #                                          | 130.4 MiB/s\n",
      " 26.1 MiB |  #                                                    | 111.6 MiB/s\n",
      "514.6 KiB |#                                                      | 247.3 MiB/s\n",
      " 36.6 MiB | #                                                     | 171.9 MiB/s\n",
      "  6.6 MiB |#                                                      | 463.5 MiB/s\n",
      "  1.5 MiB |#                                                      | 215.7 MiB/s\n",
      "  1.5 MiB |#                                                      | 256.5 MiB/s\n",
      "  1.5 MiB |#                                                      | 215.8 MiB/s\n",
      "  8.4 MiB |#                                                      | 356.8 MiB/s\n",
      " 73.2 MiB |    #                                                  | 160.9 MiB/s\n",
      "407.3 KiB |#                                                      | 230.7 MiB/s\n",
      " 82.1 MiB |    #                                                  | 179.3 MiB/s\n",
      " 98.0 MiB |     #                                                 | 178.9 MiB/s\n",
      "  4.1 MiB |#                                                      | 196.6 MiB/s\n",
      "  4.6 MiB |#                                                      | 194.3 MiB/s\n",
      "  5.6 MiB |#                                                      | 188.0 MiB/s\n",
      " 58.5 KiB |#                                                      |  75.0 MiB/s\n",
      "  3.4 MiB |#                                                      | 460.4 MiB/s\n",
      "  3.0 MiB |#                                                      | 461.5 MiB/s\n",
      "  2.9 MiB |#                                                      | 464.6 MiB/s\n",
      " 10.8 MiB |#                                                      | 142.5 MiB/s\n",
      "  4.8 MiB |#                                                      | 144.3 MiB/s\n",
      " 13.3 MiB |#                                                      | 152.3 MiB/s\n",
      "  5.3 MiB |#                                                      | 149.8 MiB/s\n",
      " 10.1 MiB |#                                                      | 147.7 MiB/s\n",
      "  4.8 MiB |#                                                      | 149.3 MiB/s\n",
      "  6.2 MiB |#                                                      | 143.5 MiB/s\n",
      "  4.8 MiB |#                                                      | 143.7 MiB/s\n",
      " 13.3 MiB |#                                                      | 151.2 MiB/s\n",
      "  5.3 MiB |#                                                      | 148.8 MiB/s\n",
      " 10.1 MiB |#                                                      | 144.3 MiB/s\n",
      "  4.8 MiB |#                                                      | 147.1 MiB/s\n",
      "  6.2 MiB |#                                                      | 143.5 MiB/s\n",
      "  1.8 MiB |#                                                      | 195.4 MiB/s\n",
      "  1.8 MiB |#                                                      | 201.5 MiB/s\n",
      "  2.3 MiB |#                                                      | 202.5 MiB/s\n",
      "  3.6 MiB |#                                                      | 195.0 MiB/s\n",
      "  4.5 MiB |#                                                      | 187.1 MiB/s\n",
      "  2.4 MiB |#                                                      | 201.3 MiB/s\n",
      "  3.1 MiB |#                                                      | 163.3 MiB/s\n",
      "621.4 KiB |#                                                      | 230.5 MiB/s\n",
      "396.3 KiB |#                                                      | 268.0 MiB/s\n",
      "  2.4 MiB |#                                                      | 436.4 MiB/s\n",
      "  2.3 MiB |#                                                      | 422.1 MiB/s\n",
      " 34.8 KiB |#                                                      |  46.2 MiB/s\n",
      " 34.8 KiB |#                                                      |  43.9 MiB/s\n",
      " 76.1 MiB |    #                                                  | 168.2 MiB/s\n",
      " 10.7 MiB |#                                                      | 170.5 MiB/s\n",
      " 73.0 MiB |    #                                                  | 166.2 MiB/s\n",
      " 10.7 MiB |#                                                      | 164.2 MiB/s\n",
      "  3.6 MiB |#                                                      | 192.5 MiB/s\n",
      "213.8 KiB |#                                                      | 117.0 MiB/s\n",
      "188.2 KiB |#                                                      | 246.4 MiB/s\n",
      "125.1 KiB |#                                                      | 114.3 MiB/s\n",
      "  3.0 MiB |#                                                      | 390.3 MiB/s\n",
      "  2.4 MiB |#                                                      | 455.7 MiB/s\n",
      "  3.9 MiB |#                                                      | 371.3 MiB/s\n",
      "  3.4 MiB |#                                                      | 381.9 MiB/s\n",
      " 12.7 MiB |#                                                      | 324.0 MiB/s\n",
      "  3.0 MiB |#                                                      | 345.6 MiB/s\n",
      "  1.5 MiB |#                                                      | 231.4 MiB/s\n",
      "514.2 KiB |#                                                      | 252.8 MiB/s\n",
      "514.1 KiB |#                                                      | 375.0 MiB/s\n",
      "514.1 KiB |#                                                      | 368.9 MiB/s\n",
      " 34.8 MiB |  #                                                    | 144.0 MiB/s\n",
      " 34.8 MiB |  #                                                    | 148.2 MiB/s\n",
      "  1.0 MiB |#                                                      | 260.2 MiB/s\n",
      " 87.6 MiB |      #                                                | 135.9 MiB/s\n",
      " 27.2 MiB |  #                                                    | 132.8 MiB/s\n",
      " 31.7 MiB |  #                                                    | 133.4 MiB/s\n",
      "  6.6 MiB |#                                                      | 150.5 MiB/s\n",
      " 30.7 MiB |      #                                                |  48.6 MiB/s\n",
      "  1.2 MiB |#                                                      | 148.5 MiB/s\n",
      "211.3 MiB |              #                                        | 143.3 MiB/s\n",
      " 21.4 MiB | #                                                     | 138.5 MiB/s\n",
      " 21.4 MiB | #                                                     | 150.6 MiB/s\n",
      "  8.1 MiB |#                                                      | 324.5 MiB/s\n",
      " 28.7 MiB |#                                                      | 385.8 MiB/s\n",
      "  2.0 MiB |#                                                      | 353.4 MiB/s\n"
     ]
    },
    {
     "name": "stderr",
     "output_type": "stream",
     "text": [
      " 13.4 MiB |#                                                      | 181.9 MiB/s\n",
      "  6.2 MiB |#                                                      | 163.3 MiB/s\n",
      "  4.6 MiB |#                                                      | 195.3 MiB/s\n",
      "616.7 KiB |#                                                      | 141.8 MiB/s\n",
      "  1.0 MiB |#                                                      | 161.9 MiB/s\n",
      "  5.0 MiB |#                                                      | 150.6 MiB/s\n",
      "  5.2 MiB |#                                                      | 188.9 MiB/s\n",
      "  8.2 MiB |#                                                      | 174.7 MiB/s\n",
      "374.4 KiB |#                                                      | 249.4 MiB/s\n",
      "  5.9 MiB |#                                                      | 169.4 MiB/s\n",
      "  2.0 MiB |#                                                      | 341.3 MiB/s\n",
      "  1.0 MiB |#                                                      | 229.9 MiB/s\n",
      " 20.1 MiB | #                                                     | 136.7 MiB/s\n",
      "113.2 MiB |       #                                               | 146.0 MiB/s\n",
      " 67.4 MiB |     #                                                 | 134.5 MiB/s\n",
      " 54.9 MiB |    #                                                  | 135.1 MiB/s\n",
      "514.8 KiB |#                                                      | 188.2 MiB/s\n",
      " 16.6 MiB | #                                                     | 141.9 MiB/s\n",
      " 16.6 MiB | #                                                     | 135.4 MiB/s\n",
      " 93.6 MiB |      #                                                | 136.6 MiB/s\n",
      "189.9 MiB |             #                                         | 140.3 MiB/s\n",
      "  2.0 MiB |#                                                      | 169.7 MiB/s\n",
      "546.3 KiB |#                                                      | 302.1 MiB/s\n",
      " 22.7 MiB | #                                                     | 152.4 MiB/s\n",
      "139.1 MiB |        #                                              | 172.9 MiB/s\n",
      " 53.8 MiB |  #                                                    | 229.7 MiB/s\n"
     ]
    }
   ],
   "source": [
    "#print(get_experiments(project))\n",
    "download_project(project)"
   ]
  },
  {
   "cell_type": "markdown",
   "id": "090cbc0e",
   "metadata": {},
   "source": [
    "### now choose an x ray scan from a simple gui "
   ]
  },
  {
   "cell_type": "code",
   "execution_count": 67,
   "id": "0814ec82",
   "metadata": {},
   "outputs": [
    {
     "name": "stdout",
     "output_type": "stream",
     "text": [
      "Collecting easygui\n",
      "  Downloading easygui-0.98.3-py2.py3-none-any.whl (92 kB)\n",
      "\u001b[K     |████████████████████████████████| 92 kB 1.2 MB/s eta 0:00:011\n",
      "\u001b[?25hInstalling collected packages: easygui\n",
      "Successfully installed easygui-0.98.3\n"
     ]
    }
   ],
   "source": [
    "!pip install easygui"
   ]
  },
  {
   "cell_type": "code",
   "execution_count": 48,
   "id": "ab8c90db",
   "metadata": {},
   "outputs": [],
   "source": [
    "from easygui import * \n",
    "# message to be displayed\n",
    "text = \"please select x-ray/cr experiment from the list given below\"\n",
    "# window title\n",
    "title = \"IBMI-XNAT\"\n",
    "# item choices\n",
    "choices = get_experiments(project)\n",
    "# creating a multi choice box\n",
    "output = multchoicebox(text, title, choices)\n",
    "# title for the message box\n",
    "title = \"IBMI-XNAT notification\"\n",
    "# message\n",
    "message = \"selected experiments : \" + str(output)\n",
    "# creating a message box\n",
    "msg = msgbox(message, title)"
   ]
  },
  {
   "cell_type": "code",
   "execution_count": 5,
   "id": "a9caf0e2",
   "metadata": {},
   "outputs": [
    {
     "name": "stdout",
     "output_type": "stream",
     "text": [
      "['<CrSessionData MarkoMarkovic_CR_1 (XNAT2_E00011)>']\n"
     ]
    }
   ],
   "source": [
    "print(output)"
   ]
  },
  {
   "cell_type": "code",
   "execution_count": 49,
   "id": "17b6ec16",
   "metadata": {},
   "outputs": [],
   "source": [
    "text = \"select a x-ray/cr scan from the list given below. if same scan appears twice no other scan is available\"\n",
    "# window title\n",
    "title = \"IBMI-XNAT\"\n",
    "# item choices\n",
    "choices = get_scans(project, output)\n",
    "# creating a multi choice box\n",
    "if len(choices) < 2:\n",
    "    choices = [choices,choices]\n",
    "    output2 = choicebox(text, title, choices)\n",
    "else:\n",
    "    output2 = multchoicebox(text, title, choices)\n",
    " \n",
    "# title for the message box\n",
    "title = \"IBMI-XNAT notification\"\n",
    "# message\n",
    "message = \"selected scan : \" + str(output2)\n",
    "# creating a message box\n",
    "msg = msgbox(message, title)"
   ]
  },
  {
   "cell_type": "code",
   "execution_count": 50,
   "id": "5fb8d737",
   "metadata": {},
   "outputs": [
    {
     "name": "stderr",
     "output_type": "stream",
     "text": [
      " 16.2 MiB |#                                                      | 353.8 MiB/s\n"
     ]
    }
   ],
   "source": [
    "path_to_im, subject = download_scan(project, output2, 1, output)"
   ]
  },
  {
   "cell_type": "code",
   "execution_count": 51,
   "id": "f77e301d",
   "metadata": {},
   "outputs": [],
   "source": [
    "#lets get the x ray\n",
    "file_list = []\n",
    "\n",
    "for path, dirs, files in os.walk(path_to_im):\n",
    "    for file in files:\n",
    "        file_list.append(os.path.join(path, file))"
   ]
  },
  {
   "cell_type": "code",
   "execution_count": 75,
   "id": "9c36d6e6",
   "metadata": {},
   "outputs": [
    {
     "name": "stdout",
     "output_type": "stream",
     "text": [
      "XNAT_TEST/GANZES_PROJEKT_TEST/01+00/MarkoMarkovic_CR_1/scans/1-Exspiration_pa/resources/DICOM/files/1.2.276.0.24.276.157513124.4.0.1-1-1-16f53r.dcm\n"
     ]
    },
    {
     "data": {
      "text/plain": [
       "True"
      ]
     },
     "execution_count": 75,
     "metadata": {},
     "output_type": "execute_result"
    },
    {
     "data": {
      "image/png": "[encoded data removed]",
      "text/plain": [
       "<Figure size 432x432 with 1 Axes>"
      ]
     },
     "metadata": {
      "needs_background": "light"
     },
     "output_type": "display_data"
    }
   ],
   "source": [
    "# händisch unser pfad \n",
    "path = file_list[0]\n",
    "print(path)\n",
    "ds = dcmread(path)\n",
    "im = ds.pixel_array\n",
    "# visualize with matplotlib\n",
    "plt.figure(figsize=(6, 6))\n",
    "plt.imshow(im, cmap = 'gray')\n",
    "\n",
    "cv2.imwrite('image_to_predict.jpg',im)"
   ]
  },
  {
   "cell_type": "markdown",
   "id": "700d46d4",
   "metadata": {},
   "source": [
    "## nice2have: segmentation via itk-snap "
   ]
  },
  {
   "cell_type": "code",
   "execution_count": 54,
   "id": "6cc824a8",
   "metadata": {},
   "outputs": [
    {
     "name": "stderr",
     "output_type": "stream",
     "text": [
      "libpng warning: sCAL: invalid unit\n",
      "libpng warning: sCAL: invalid unit\n",
      "libpng warning: iCCP: known incorrect sRGB profile\n",
      "libpng warning: iCCP: known incorrect sRGB profile\n",
      "libpng warning: iCCP: known incorrect sRGB profile\n",
      "libpng warning: sCAL: invalid unit\n",
      "Return code : 0\n"
     ]
    }
   ],
   "source": [
    "import pydicom\n",
    "from pydicom.dataset import Dataset\n",
    "from pydicom.uid import generate_uid\n",
    "import cv2\n",
    "os.system(\"itksnap -g {f}\".format(f=path))\n",
    "\n",
    "path_seg = 'XNAT_TEST/GANZES_PROJEKT_TEST/01+00/segmentation.nii.gz'\n",
    "seg = sitk.GetArrayFromImage(sitk.ReadImage(path_seg))\n",
    "\n",
    "seg = np.squeeze(seg)\n",
    "seg = cv2.resize(seg,(150,150))\n",
    "im = cv2.resize(im,(150,150))\n",
    "#ds = Dataset()\n",
    "\n",
    "ds.PixelData = seg.tobytes()\n",
    "# update the information regarding the shape of the data array\n",
    "ds.Rows, ds.Columns = seg.shape\n",
    "\n",
    "ds.UID = generate_uid()\n",
    "\n",
    "#ds.pixel_array = seg\n",
    "pydicom.filewriter.write_file('XNAT_TEST/GANZES_PROJEKT_TEST/01+00/segmentation.dcm', ds)\n",
    "\n",
    "ds.PixelData = im.tobytes()\n",
    "# update the information regarding the shape of the data array\n",
    "ds.Rows, ds.Columns = im.shape\n",
    "\n",
    "ds.UID = generate_uid()\n",
    "\n",
    "#ds.pixel_array = seg\n",
    "pydicom.filewriter.write_file('XNAT_TEST/GANZES_PROJEKT_TEST/01+00/image_resized.dcm', ds)"
   ]
  },
  {
   "cell_type": "markdown",
   "id": "a36e92ef",
   "metadata": {},
   "source": [
    "## now create a zip file for uploading the segmentation\n",
    "\n",
    "### upload resized  chest x ray  "
   ]
  },
  {
   "cell_type": "code",
   "execution_count": 55,
   "id": "4ccf965c",
   "metadata": {},
   "outputs": [
    {
     "name": "stdout",
     "output_type": "stream",
     "text": [
      "/home/miracum/XNAT_TEST/GANZES_PROJEKT_TEST/01+00/image_resized.dcm.zip\n"
     ]
    }
   ],
   "source": [
    "import shutil\n",
    "#out_path1=shutil.make_archive('XNAT_TEST/GANZES_PROJEKT_TEST/01+00/segmentation.dcm', 'zip', 'XNAT_TEST/GANZES_PROJEKT_TEST/01+00')\n",
    "#print(out_path1)\n",
    "out_path2=shutil.make_archive('XNAT_TEST/GANZES_PROJEKT_TEST/01+00/image_resized.dcm', 'zip', 'XNAT_TEST/GANZES_PROJEKT_TEST/01+00')\n",
    "print(out_path2)"
   ]
  },
  {
   "cell_type": "markdown",
   "id": "78fed7e3",
   "metadata": {},
   "source": [
    "### upload"
   ]
  },
  {
   "cell_type": "code",
   "execution_count": 56,
   "id": "20d4f818",
   "metadata": {},
   "outputs": [
    {
     "data": {
      "text/plain": [
       "<PrearchiveSession chili_clean/20221017_093224059/1840621>"
      ]
     },
     "execution_count": 56,
     "metadata": {},
     "output_type": "execute_result"
    }
   ],
   "source": [
    "session.services.import_(out_path2, project=project, subject='test002', destination='/prearchive')\n",
    "\n",
    "#session.disconnect()"
   ]
  },
  {
   "cell_type": "code",
   "execution_count": 61,
   "id": "181b96ce",
   "metadata": {},
   "outputs": [
    {
     "data": {
      "text/plain": [
       "(150, 150)"
      ]
     },
     "execution_count": 61,
     "metadata": {},
     "output_type": "execute_result"
    },
    {
     "data": {
      "image/png": "[encoded data removed]",
      "text/plain": [
       "<Figure size 432x288 with 1 Axes>"
      ]
     },
     "metadata": {
      "needs_background": "light"
     },
     "output_type": "display_data"
    }
   ],
   "source": [
    "im = dcmread('Downloads/image_resized.dcm')\n",
    "plt.imshow(im.pixel_array,cmap='gray' )\n",
    "np.shape(im.pixel_array)"
   ]
  },
  {
   "cell_type": "code",
   "execution_count": 62,
   "id": "ea4f573c",
   "metadata": {},
   "outputs": [
    {
     "name": "stderr",
     "output_type": "stream",
     "text": [
      "2022-10-17 11:48:07.144402: I tensorflow/stream_executor/platform/default/dso_loader.cc:49] Successfully opened dynamic library libcudart.so.10.1\n"
     ]
    }
   ],
   "source": [
    "import tensorflow as tf\n",
    "from tensorflow import keras\n",
    "from tensorflow.keras.models import Sequential\n",
    "from tensorflow.keras.layers import Dense, Conv2D , MaxPool2D , Flatten , Dropout \n",
    "from tensorflow.keras.preprocessing.image import ImageDataGenerator\n",
    "from tensorflow.keras.applications.mobilenet_v2 import preprocess_input\n",
    "from tensorflow.keras.optimizers import Adam"
   ]
  },
  {
   "cell_type": "markdown",
   "id": "699515a1",
   "metadata": {},
   "source": [
    "##  load pretrained chest x ray classification model"
   ]
  },
  {
   "cell_type": "code",
   "execution_count": 64,
   "id": "f6b40b91",
   "metadata": {},
   "outputs": [
    {
     "name": "stderr",
     "output_type": "stream",
     "text": [
      "2022-10-17 11:48:18.141477: I tensorflow/compiler/jit/xla_cpu_device.cc:41] Not creating XLA devices, tf_xla_enable_xla_devices not set\n",
      "2022-10-17 11:48:18.142186: I tensorflow/stream_executor/platform/default/dso_loader.cc:49] Successfully opened dynamic library libcuda.so.1\n",
      "2022-10-17 11:48:18.171039: E tensorflow/stream_executor/cuda/cuda_driver.cc:328] failed call to cuInit: CUDA_ERROR_NO_DEVICE: no CUDA-capable device is detected\n",
      "2022-10-17 11:48:18.171055: I tensorflow/stream_executor/cuda/cuda_diagnostics.cc:156] kernel driver does not appear to be running on this host (DIZ-UMMD-B177): /proc/driver/nvidia/version does not exist\n",
      "2022-10-17 11:48:18.171511: I tensorflow/core/platform/cpu_feature_guard.cc:142] This TensorFlow binary is optimized with oneAPI Deep Neural Network Library (oneDNN) to use the following CPU instructions in performance-critical operations:  SSE4.1 SSE4.2 AVX AVX2 FMA\n",
      "To enable them in other operations, rebuild TensorFlow with the appropriate compiler flags.\n",
      "2022-10-17 11:48:18.171744: I tensorflow/compiler/jit/xla_gpu_device.cc:99] Not creating XLA devices, tf_xla_enable_xla_devices not set\n"
     ]
    }
   ],
   "source": [
    "trained_model = tf.keras.models.load_model('model_pneumonia_det/cnn_2d_binary') #or cw binary \n",
    "# Check its architecture\n",
    "#trained_model.summary()"
   ]
  },
  {
   "cell_type": "code",
   "execution_count": 65,
   "id": "5f5ee694",
   "metadata": {},
   "outputs": [],
   "source": [
    "from skimage import data, color\n",
    "from skimage.transform import rescale, resize, downscale_local_mean\n",
    "import cv2"
   ]
  },
  {
   "cell_type": "markdown",
   "id": "7d6a8f4b",
   "metadata": {},
   "source": [
    "#### since we trained our model on mini-batches, our input is a tensor of shape [batch_size, image_width, #### image_height, number_of_channels]; hence we resize and expand dims that a 2d-image is treated as tensor"
   ]
  },
  {
   "cell_type": "code",
   "execution_count": 88,
   "id": "05fdb2b7",
   "metadata": {},
   "outputs": [
    {
     "name": "stdout",
     "output_type": "stream",
     "text": [
      "[[0]]\n"
     ]
    }
   ],
   "source": [
    "file = 'chest_xray_xnat.jpg'\n",
    "#file = 'chest_child_healthy.jpeg'\n",
    "#file = 'xray_child_pneumonia.jpg'\n",
    "#file = 'xray_radioapaedia.jpeg'\n",
    "image = cv2.imread(file, cv2.IMREAD_GRAYSCALE)\n",
    "\n",
    "image = resize(image, (150, 150,1))\n",
    "image_pred = np.expand_dims(image,axis=0)\n",
    "\n",
    "result = trained_model.predict_classes(image_pred) \n",
    "print(result)"
   ]
  }
 ],
 "metadata": {
  "kernelspec": {
   "display_name": "Python [conda env:tensorflow] *",
   "language": "python",
   "name": "conda-env-tensorflow-py"
  },
  "language_info": {
   "codemirror_mode": {
    "name": "ipython",
    "version": 3
   },
   "file_extension": ".py",
   "mimetype": "text/x-python",
   "name": "python",
   "nbconvert_exporter": "python",
   "pygments_lexer": "ipython3",
   "version": "3.8.13"
  }
 },
 "nbformat": 4,
 "nbformat_minor": 5
}
